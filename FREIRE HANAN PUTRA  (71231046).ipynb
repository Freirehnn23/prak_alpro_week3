{
 "cells": [
  {
   "cell_type": "code",
   "execution_count": null,
   "id": "de2e8cbb",
   "metadata": {},
   "outputs": [],
   "source": [
    "input bilangan\n",
    "If (bilangan %2 == 1) then\n",
    "\tPrint(\"bilangan ini Prima\")\n",
    "else\n",
    "\tPrint(\"bilangan tidak prima\")\n",
    "END IF\n"
   ]
  },
  {
   "cell_type": "code",
   "execution_count": null,
   "id": "35af8509",
   "metadata": {},
   "outputs": [],
   "source": [
    "\tinput a,b,c\n",
    "D ← (b * b) - (4 * a * c)\n",
    "if (d < 0) then\n",
    "\tprint \"akar real dan berlainan\"\n",
    "else if (d == 0) then\n",
    "\tprint \"Akar real dan kembar\"\n",
    "else\n",
    "\tprint\"Akar imajiner atau tidak real\"\n",
    "END IF\n"
   ]
  },
  {
   "cell_type": "code",
   "execution_count": null,
   "id": "2912f51b",
   "metadata": {},
   "outputs": [],
   "source": [
    "INPUT n\n",
    "    IF n < 0 THEN\n",
    "        PRINT \"Faktorial tidak terdefinisi untuk bilangan negatif\"\n",
    "    ELSE\n",
    "        faktorial ← 1\n",
    "        i ← 1\n",
    "        WHILE i <= n DO\n",
    "            faktorial ← faktorial * i\n",
    "            i ← i + 1\n",
    "        ENDWHILE\n",
    "        PRINT \"Nilai faktorial dari\", n, \"adalah\", faktorial\n",
    "    ENDIF\n"
   ]
  }
 ],
 "metadata": {
  "kernelspec": {
   "display_name": "Python 3 (ipykernel)",
   "language": "python",
   "name": "python3"
  },
  "language_info": {
   "codemirror_mode": {
    "name": "ipython",
    "version": 3
   },
   "file_extension": ".py",
   "mimetype": "text/x-python",
   "name": "python",
   "nbconvert_exporter": "python",
   "pygments_lexer": "ipython3",
   "version": "3.11.5"
  }
 },
 "nbformat": 4,
 "nbformat_minor": 5
}
